{
 "cells": [
  {
   "cell_type": "markdown",
   "id": "ff2ba1bf",
   "metadata": {},
   "source": [
    "# Power Spectral Density Randomizer\n",
    "\n",
    "Below code will be used to randomize light color asuming it is being produced by a light bulb with a temperature rating T (K). To do this, I will radomize the frequencies by choosing a random frequency with uniform probabilty and then a random value of spectral radiance with uniform probability. If the random value of spectral radiance is less than the value of Planck's law calculated with the random frequency I will store the random frequency, otherwise I will repeat the random sampling. I will do this until I have N frequencies.\n",
    "\n",
    "Planck's Law\n",
    "$B(\\nu,T) = \\frac{2h\\nu^3}{c^2}\\frac{1}{e^{\\frac{h\\nu}{k_BT}}-1}$\n",
    "\n",
    "Aside: This is Planck's law in 3D, I think that will be correct for our idea, but I have not completely thought it through"
   ]
  },
  {
   "cell_type": "code",
   "execution_count": 99,
   "id": "faa70553",
   "metadata": {},
   "outputs": [],
   "source": [
    "import numpy as np\n",
    "import seaborn as sns\n",
    "from matplotlib import pyplot as plt\n",
    "from tqdm.auto import tqdm\n",
    "from scipy import special as sf\n",
    "import pandas as pd"
   ]
  },
  {
   "cell_type": "code",
   "execution_count": 63,
   "id": "61ee662d",
   "metadata": {},
   "outputs": [],
   "source": [
    "T=5800 #Temperature in Kelvin (5800 is approximately the BB-temp of sun)\n",
    "N=1000000 #number of samples we want\n",
    "f=[] #list of frequencies, to be filled\n",
    "c= 3*10**8 #constant speed of light in m/s\n",
    "h = 6.6261*10**(-34) #Planck's constant in J/s\n",
    "kB = 1.381*10**(-23) #Boltzmann constant in 1/K\n",
    "wF = 3.157*kB*T/h #This is Wien's frequency, using Wien's law, calculate the peak frequency, use this to get the domain of interest"
   ]
  },
  {
   "cell_type": "code",
   "execution_count": 64,
   "id": "7b8263e9",
   "metadata": {},
   "outputs": [],
   "source": [
    "def p_law(f):\n",
    "    return (2*h*f**3/(c**2))*(1/(np.exp(h*f/(kB*T))-1))"
   ]
  },
  {
   "cell_type": "code",
   "execution_count": 65,
   "id": "a5fc05f8",
   "metadata": {},
   "outputs": [
    {
     "data": {
      "application/vnd.jupyter.widget-view+json": {
       "model_id": "0809e56b23ec4329a4376d71ec38cdaf",
       "version_major": 2,
       "version_minor": 0
      },
      "text/plain": [
       "  0%|          | 0/1000001 [00:00<?, ?it/s]"
      ]
     },
     "metadata": {},
     "output_type": "display_data"
    }
   ],
   "source": [
    "def generator():\n",
    "    i=0\n",
    "    while i<=N:\n",
    "        nu = np.random.uniform(low = .001*wF, high = 5*wF)\n",
    "        B = np.random.uniform(high = 1.05*p_law(wF))\n",
    "        if B<p_law(nu):\n",
    "            f.append(nu)\n",
    "            i+=1\n",
    "            yield\n",
    "\n",
    "        else:\n",
    "            pass\n",
    "    \n",
    "        \n",
    "for _ in tqdm(generator(), total = N+1): pass"
   ]
  },
  {
   "cell_type": "code",
   "execution_count": 66,
   "id": "77da5b3f",
   "metadata": {},
   "outputs": [
    {
     "data": {
      "text/plain": [
       "<AxesSubplot:ylabel='Count'>"
      ]
     },
     "execution_count": 66,
     "metadata": {},
     "output_type": "execute_result"
    },
    {
     "data": {
      "image/png": "[encoded data removed]",
      "text/plain": [
       "<Figure size 432x288 with 1 Axes>"
      ]
     },
     "metadata": {
      "needs_background": "light"
     },
     "output_type": "display_data"
    }
   ],
   "source": [
    "sns.histplot(f)"
   ]
  },
  {
   "cell_type": "markdown",
   "id": "dd5ac6bb",
   "metadata": {},
   "source": [
    "# Coupling Effiency\n",
    "In the code below, we will choses a random angle between 0 and 90 degrees. This angle will represent the polarization of a photon. This will be chosen from a uniform distribution as we want to describe light being generated from a lightbulb."
   ]
  },
  {
   "cell_type": "code",
   "execution_count": 69,
   "id": "6f3c0178",
   "metadata": {},
   "outputs": [],
   "source": [
    "theta = np.random.uniform(high = np.pi/2)"
   ]
  },
  {
   "cell_type": "code",
   "execution_count": 72,
   "id": "56f4a0a8",
   "metadata": {},
   "outputs": [],
   "source": [
    "epc=1/2*(np.cos(theta)-np.sin(theta))"
   ]
  },
  {
   "cell_type": "markdown",
   "id": "0dda9336",
   "metadata": {},
   "source": [
    "# Radiation Direction\n",
    "In the code below, we want to describe the the direction -- which we will do using a polar and azimuthal angle -- "
   ]
  },
  {
   "cell_type": "code",
   "execution_count": 172,
   "id": "f8ae2cb9",
   "metadata": {},
   "outputs": [],
   "source": [
    "sigma=1.1\n",
    "a=2\n",
    "xi=sf.erf(a/(2*sigma))\n",
    "\n",
    "n=0\n",
    "xs=[]\n",
    "ys=[]\n",
    "n=10000000\n",
    "\n",
    "u = np.random.uniform(low = 0, high = 1, size = (2,n))\n",
    "\n",
    "x=sigma*sf.erfinv(2*xi*u[0]-xi)   \n",
    "y=sigma*sf.erfinv(2*xi*u[1]-xi)\n",
    "\n"
   ]
  },
  {
   "cell_type": "code",
   "execution_count": 173,
   "id": "d8c92070",
   "metadata": {},
   "outputs": [
    {
     "data": {
      "text/plain": [
       "-13.983563662512694"
      ]
     },
     "execution_count": 173,
     "metadata": {},
     "output_type": "execute_result"
    }
   ],
   "source": [
    "a = u[1][0]/(u[0][0]-1)\n",
    "2*xi*a-xi"
   ]
  },
  {
   "cell_type": "code",
   "execution_count": 174,
   "id": "82f9a992",
   "metadata": {},
   "outputs": [
    {
     "data": {
      "text/plain": [
       "(array([[312., 351., 346., ..., 341., 321., 305.],\n",
       "        [328., 337., 352., ..., 365., 293., 369.],\n",
       "        [318., 394., 365., ..., 385., 382., 380.],\n",
       "        ...,\n",
       "        [350., 378., 404., ..., 352., 357., 348.],\n",
       "        [337., 331., 374., ..., 348., 334., 351.],\n",
       "        [326., 331., 366., ..., 344., 316., 309.]]),\n",
       " array([-9.99999695e-01, -9.79999701e-01, -9.59999708e-01, -9.39999714e-01,\n",
       "        -9.19999721e-01, -8.99999727e-01, -8.79999734e-01, -8.59999740e-01,\n",
       "        -8.39999747e-01, -8.19999753e-01, -7.99999759e-01, -7.79999766e-01,\n",
       "        -7.59999772e-01, -7.39999779e-01, -7.19999785e-01, -6.99999792e-01,\n",
       "        -6.79999798e-01, -6.59999805e-01, -6.39999811e-01, -6.19999818e-01,\n",
       "        -5.99999824e-01, -5.79999830e-01, -5.59999837e-01, -5.39999843e-01,\n",
       "        -5.19999850e-01, -4.99999856e-01, -4.79999863e-01, -4.59999869e-01,\n",
       "        -4.39999876e-01, -4.19999882e-01, -3.99999888e-01, -3.79999895e-01,\n",
       "        -3.59999901e-01, -3.39999908e-01, -3.19999914e-01, -2.99999921e-01,\n",
       "        -2.79999927e-01, -2.59999934e-01, -2.39999940e-01, -2.19999947e-01,\n",
       "        -1.99999953e-01, -1.79999959e-01, -1.59999966e-01, -1.39999972e-01,\n",
       "        -1.19999979e-01, -9.99999852e-02, -7.99999917e-02, -5.99999982e-02,\n",
       "        -4.00000046e-02, -2.00000111e-02, -1.75061613e-08,  1.99999760e-02,\n",
       "         3.99999696e-02,  5.99999631e-02,  7.99999567e-02,  9.99999502e-02,\n",
       "         1.19999944e-01,  1.39999937e-01,  1.59999931e-01,  1.79999924e-01,\n",
       "         1.99999918e-01,  2.19999912e-01,  2.39999905e-01,  2.59999899e-01,\n",
       "         2.79999892e-01,  2.99999886e-01,  3.19999879e-01,  3.39999873e-01,\n",
       "         3.59999866e-01,  3.79999860e-01,  3.99999853e-01,  4.19999847e-01,\n",
       "         4.39999841e-01,  4.59999834e-01,  4.79999828e-01,  4.99999821e-01,\n",
       "         5.19999815e-01,  5.39999808e-01,  5.59999802e-01,  5.79999795e-01,\n",
       "         5.99999789e-01,  6.19999783e-01,  6.39999776e-01,  6.59999770e-01,\n",
       "         6.79999763e-01,  6.99999757e-01,  7.19999750e-01,  7.39999744e-01,\n",
       "         7.59999737e-01,  7.79999731e-01,  7.99999724e-01,  8.19999718e-01,\n",
       "         8.39999712e-01,  8.59999705e-01,  8.79999699e-01,  8.99999692e-01,\n",
       "         9.19999686e-01,  9.39999679e-01,  9.59999673e-01,  9.79999666e-01,\n",
       "         9.99999660e-01]),\n",
       " array([-9.99999545e-01, -9.79999554e-01, -9.59999562e-01, -9.39999571e-01,\n",
       "        -9.19999580e-01, -8.99999588e-01, -8.79999597e-01, -8.59999606e-01,\n",
       "        -8.39999614e-01, -8.19999623e-01, -7.99999632e-01, -7.79999640e-01,\n",
       "        -7.59999649e-01, -7.39999658e-01, -7.19999666e-01, -6.99999675e-01,\n",
       "        -6.79999684e-01, -6.59999692e-01, -6.39999701e-01, -6.19999710e-01,\n",
       "        -5.99999719e-01, -5.79999727e-01, -5.59999736e-01, -5.39999745e-01,\n",
       "        -5.19999753e-01, -4.99999762e-01, -4.79999771e-01, -4.59999779e-01,\n",
       "        -4.39999788e-01, -4.19999797e-01, -3.99999805e-01, -3.79999814e-01,\n",
       "        -3.59999823e-01, -3.39999831e-01, -3.19999840e-01, -2.99999849e-01,\n",
       "        -2.79999857e-01, -2.59999866e-01, -2.39999875e-01, -2.19999883e-01,\n",
       "        -1.99999892e-01, -1.79999901e-01, -1.59999910e-01, -1.39999918e-01,\n",
       "        -1.19999927e-01, -9.99999356e-02, -7.99999442e-02, -5.99999529e-02,\n",
       "        -3.99999616e-02, -1.99999703e-02,  2.10263926e-08,  2.00000123e-02,\n",
       "         4.00000037e-02,  5.99999950e-02,  7.99999863e-02,  9.99999776e-02,\n",
       "         1.19999969e-01,  1.39999960e-01,  1.59999952e-01,  1.79999943e-01,\n",
       "         1.99999934e-01,  2.19999926e-01,  2.39999917e-01,  2.59999908e-01,\n",
       "         2.79999899e-01,  2.99999891e-01,  3.19999882e-01,  3.39999873e-01,\n",
       "         3.59999865e-01,  3.79999856e-01,  3.99999847e-01,  4.19999839e-01,\n",
       "         4.39999830e-01,  4.59999821e-01,  4.79999813e-01,  4.99999804e-01,\n",
       "         5.19999795e-01,  5.39999787e-01,  5.59999778e-01,  5.79999769e-01,\n",
       "         5.99999761e-01,  6.19999752e-01,  6.39999743e-01,  6.59999735e-01,\n",
       "         6.79999726e-01,  6.99999717e-01,  7.19999708e-01,  7.39999700e-01,\n",
       "         7.59999691e-01,  7.79999682e-01,  7.99999674e-01,  8.19999665e-01,\n",
       "         8.39999656e-01,  8.59999648e-01,  8.79999639e-01,  8.99999630e-01,\n",
       "         9.19999622e-01,  9.39999613e-01,  9.59999604e-01,  9.79999596e-01,\n",
       "         9.99999587e-01]),\n",
       " <matplotlib.collections.QuadMesh at 0x7fb2e6435670>)"
      ]
     },
     "execution_count": 174,
     "metadata": {},
     "output_type": "execute_result"
    },
    {
     "data": {
      "image/png": "[encoded data removed]",
      "text/plain": [
       "<Figure size 432x288 with 1 Axes>"
      ]
     },
     "metadata": {
      "needs_background": "light"
     },
     "output_type": "display_data"
    }
   ],
   "source": [
    "plt.hist2d(x, y, bins = 100)\n",
    "#plt.plot(x,y,'o')"
   ]
  },
  {
   "cell_type": "code",
   "execution_count": 111,
   "id": "f03e42c6",
   "metadata": {},
   "outputs": [],
   "source": [
    "xs=np.arange(-a/2,a/2,.01)\n",
    "ys=np.arange(-a/2,a/2,.01)\n",
    "d=[]\n",
    "for x in xs:\n",
    "    for y in ys:\n",
    "        d.append([x,y,1/(4*xi**2)*((sf.erf(x/sigma)+xi)*(sf.erf(y/sigma)+xi))])\n",
    "\n",
    "f=pd.DataFrame(data =d, columns = ['x','y','z'])"
   ]
  },
  {
   "cell_type": "code",
   "execution_count": 123,
   "id": "d553a715",
   "metadata": {},
   "outputs": [
    {
     "data": {
      "text/plain": [
       "<AxesSubplot:xlabel='y', ylabel='x'>"
      ]
     },
     "execution_count": 123,
     "metadata": {},
     "output_type": "execute_result"
    },
    {
     "data": {
      "image/png": "[encoded data removed]",
      "text/plain": [
       "<Figure size 432x288 with 2 Axes>"
      ]
     },
     "metadata": {
      "needs_background": "light"
     },
     "output_type": "display_data"
    }
   ],
   "source": [
    "glue = f.pivot(index=\"x\", columns=\"y\", values=\"z\")\n",
    "sns.heatmap(glue.iloc[::-1],xticklabels=False,yticklabels=False)"
   ]
  },
  {
   "cell_type": "code",
   "execution_count": 124,
   "id": "13984a38",
   "metadata": {},
   "outputs": [
    {
     "data": {
      "text/html": [
       "<div>\n",
       "<style scoped>\n",
       "    .dataframe tbody tr th:only-of-type {\n",
       "        vertical-align: middle;\n",
       "    }\n",
       "\n",
       "    .dataframe tbody tr th {\n",
       "        vertical-align: top;\n",
       "    }\n",
       "\n",
       "    .dataframe thead th {\n",
       "        text-align: right;\n",
       "    }\n",
       "</style>\n",
       "<table border=\"1\" class=\"dataframe\">\n",
       "  <thead>\n",
       "    <tr style=\"text-align: right;\">\n",
       "      <th>y</th>\n",
       "      <th>-1.00</th>\n",
       "      <th>-0.99</th>\n",
       "      <th>-0.98</th>\n",
       "      <th>-0.97</th>\n",
       "      <th>-0.96</th>\n",
       "      <th>-0.95</th>\n",
       "      <th>-0.94</th>\n",
       "      <th>-0.93</th>\n",
       "      <th>-0.92</th>\n",
       "      <th>-0.91</th>\n",
       "      <th>...</th>\n",
       "      <th>0.90</th>\n",
       "      <th>0.91</th>\n",
       "      <th>0.92</th>\n",
       "      <th>0.93</th>\n",
       "      <th>0.94</th>\n",
       "      <th>0.95</th>\n",
       "      <th>0.96</th>\n",
       "      <th>0.97</th>\n",
       "      <th>0.98</th>\n",
       "      <th>0.99</th>\n",
       "    </tr>\n",
       "    <tr>\n",
       "      <th>x</th>\n",
       "      <th></th>\n",
       "      <th></th>\n",
       "      <th></th>\n",
       "      <th></th>\n",
       "      <th></th>\n",
       "      <th></th>\n",
       "      <th></th>\n",
       "      <th></th>\n",
       "      <th></th>\n",
       "      <th></th>\n",
       "      <th></th>\n",
       "      <th></th>\n",
       "      <th></th>\n",
       "      <th></th>\n",
       "      <th></th>\n",
       "      <th></th>\n",
       "      <th></th>\n",
       "      <th></th>\n",
       "      <th></th>\n",
       "      <th></th>\n",
       "      <th></th>\n",
       "    </tr>\n",
       "  </thead>\n",
       "  <tbody>\n",
       "    <tr>\n",
       "      <th>0.99</th>\n",
       "      <td>0.0</td>\n",
       "      <td>0.002481</td>\n",
       "      <td>0.005013</td>\n",
       "      <td>0.007594</td>\n",
       "      <td>0.010226</td>\n",
       "      <td>0.012908</td>\n",
       "      <td>0.015643</td>\n",
       "      <td>0.018429</td>\n",
       "      <td>0.021267</td>\n",
       "      <td>0.024158</td>\n",
       "      <td>...</td>\n",
       "      <td>0.970410</td>\n",
       "      <td>0.973354</td>\n",
       "      <td>0.976245</td>\n",
       "      <td>0.979084</td>\n",
       "      <td>0.981870</td>\n",
       "      <td>0.984604</td>\n",
       "      <td>0.987287</td>\n",
       "      <td>0.989919</td>\n",
       "      <td>0.992500</td>\n",
       "      <td>0.995031</td>\n",
       "    </tr>\n",
       "    <tr>\n",
       "      <th>0.98</th>\n",
       "      <td>0.0</td>\n",
       "      <td>0.002475</td>\n",
       "      <td>0.005000</td>\n",
       "      <td>0.007574</td>\n",
       "      <td>0.010200</td>\n",
       "      <td>0.012876</td>\n",
       "      <td>0.015603</td>\n",
       "      <td>0.018382</td>\n",
       "      <td>0.021213</td>\n",
       "      <td>0.024097</td>\n",
       "      <td>...</td>\n",
       "      <td>0.967941</td>\n",
       "      <td>0.970878</td>\n",
       "      <td>0.973762</td>\n",
       "      <td>0.976593</td>\n",
       "      <td>0.979372</td>\n",
       "      <td>0.982099</td>\n",
       "      <td>0.984775</td>\n",
       "      <td>0.987400</td>\n",
       "      <td>0.989975</td>\n",
       "      <td>0.992500</td>\n",
       "    </tr>\n",
       "    <tr>\n",
       "      <th>0.97</th>\n",
       "      <td>0.0</td>\n",
       "      <td>0.002469</td>\n",
       "      <td>0.004987</td>\n",
       "      <td>0.007555</td>\n",
       "      <td>0.010173</td>\n",
       "      <td>0.012842</td>\n",
       "      <td>0.015562</td>\n",
       "      <td>0.018334</td>\n",
       "      <td>0.021158</td>\n",
       "      <td>0.024034</td>\n",
       "      <td>...</td>\n",
       "      <td>0.965424</td>\n",
       "      <td>0.968353</td>\n",
       "      <td>0.971229</td>\n",
       "      <td>0.974053</td>\n",
       "      <td>0.976825</td>\n",
       "      <td>0.979545</td>\n",
       "      <td>0.982214</td>\n",
       "      <td>0.984833</td>\n",
       "      <td>0.987400</td>\n",
       "      <td>0.989919</td>\n",
       "    </tr>\n",
       "    <tr>\n",
       "      <th>0.96</th>\n",
       "      <td>0.0</td>\n",
       "      <td>0.002462</td>\n",
       "      <td>0.004974</td>\n",
       "      <td>0.007535</td>\n",
       "      <td>0.010146</td>\n",
       "      <td>0.012808</td>\n",
       "      <td>0.015521</td>\n",
       "      <td>0.018285</td>\n",
       "      <td>0.021102</td>\n",
       "      <td>0.023970</td>\n",
       "      <td>...</td>\n",
       "      <td>0.962857</td>\n",
       "      <td>0.965779</td>\n",
       "      <td>0.968647</td>\n",
       "      <td>0.971464</td>\n",
       "      <td>0.974228</td>\n",
       "      <td>0.976941</td>\n",
       "      <td>0.979603</td>\n",
       "      <td>0.982214</td>\n",
       "      <td>0.984775</td>\n",
       "      <td>0.987287</td>\n",
       "    </tr>\n",
       "    <tr>\n",
       "      <th>0.95</th>\n",
       "      <td>0.0</td>\n",
       "      <td>0.002455</td>\n",
       "      <td>0.004960</td>\n",
       "      <td>0.007514</td>\n",
       "      <td>0.010118</td>\n",
       "      <td>0.012773</td>\n",
       "      <td>0.015479</td>\n",
       "      <td>0.018236</td>\n",
       "      <td>0.021044</td>\n",
       "      <td>0.023905</td>\n",
       "      <td>...</td>\n",
       "      <td>0.960241</td>\n",
       "      <td>0.963154</td>\n",
       "      <td>0.966015</td>\n",
       "      <td>0.968824</td>\n",
       "      <td>0.971581</td>\n",
       "      <td>0.974286</td>\n",
       "      <td>0.976941</td>\n",
       "      <td>0.979545</td>\n",
       "      <td>0.982099</td>\n",
       "      <td>0.984604</td>\n",
       "    </tr>\n",
       "    <tr>\n",
       "      <th>...</th>\n",
       "      <td>...</td>\n",
       "      <td>...</td>\n",
       "      <td>...</td>\n",
       "      <td>...</td>\n",
       "      <td>...</td>\n",
       "      <td>...</td>\n",
       "      <td>...</td>\n",
       "      <td>...</td>\n",
       "      <td>...</td>\n",
       "      <td>...</td>\n",
       "      <td>...</td>\n",
       "      <td>...</td>\n",
       "      <td>...</td>\n",
       "      <td>...</td>\n",
       "      <td>...</td>\n",
       "      <td>...</td>\n",
       "      <td>...</td>\n",
       "      <td>...</td>\n",
       "      <td>...</td>\n",
       "      <td>...</td>\n",
       "      <td>...</td>\n",
       "    </tr>\n",
       "    <tr>\n",
       "      <th>-0.96</th>\n",
       "      <td>0.0</td>\n",
       "      <td>0.000026</td>\n",
       "      <td>0.000052</td>\n",
       "      <td>0.000078</td>\n",
       "      <td>0.000105</td>\n",
       "      <td>0.000133</td>\n",
       "      <td>0.000161</td>\n",
       "      <td>0.000189</td>\n",
       "      <td>0.000219</td>\n",
       "      <td>0.000248</td>\n",
       "      <td>...</td>\n",
       "      <td>0.009973</td>\n",
       "      <td>0.010003</td>\n",
       "      <td>0.010033</td>\n",
       "      <td>0.010062</td>\n",
       "      <td>0.010090</td>\n",
       "      <td>0.010118</td>\n",
       "      <td>0.010146</td>\n",
       "      <td>0.010173</td>\n",
       "      <td>0.010200</td>\n",
       "      <td>0.010226</td>\n",
       "    </tr>\n",
       "    <tr>\n",
       "      <th>-0.97</th>\n",
       "      <td>0.0</td>\n",
       "      <td>0.000019</td>\n",
       "      <td>0.000038</td>\n",
       "      <td>0.000058</td>\n",
       "      <td>0.000078</td>\n",
       "      <td>0.000099</td>\n",
       "      <td>0.000119</td>\n",
       "      <td>0.000141</td>\n",
       "      <td>0.000162</td>\n",
       "      <td>0.000184</td>\n",
       "      <td>...</td>\n",
       "      <td>0.007406</td>\n",
       "      <td>0.007428</td>\n",
       "      <td>0.007450</td>\n",
       "      <td>0.007472</td>\n",
       "      <td>0.007493</td>\n",
       "      <td>0.007514</td>\n",
       "      <td>0.007535</td>\n",
       "      <td>0.007555</td>\n",
       "      <td>0.007574</td>\n",
       "      <td>0.007594</td>\n",
       "    </tr>\n",
       "    <tr>\n",
       "      <th>-0.98</th>\n",
       "      <td>0.0</td>\n",
       "      <td>0.000013</td>\n",
       "      <td>0.000025</td>\n",
       "      <td>0.000038</td>\n",
       "      <td>0.000052</td>\n",
       "      <td>0.000065</td>\n",
       "      <td>0.000079</td>\n",
       "      <td>0.000093</td>\n",
       "      <td>0.000107</td>\n",
       "      <td>0.000122</td>\n",
       "      <td>...</td>\n",
       "      <td>0.004889</td>\n",
       "      <td>0.004903</td>\n",
       "      <td>0.004918</td>\n",
       "      <td>0.004932</td>\n",
       "      <td>0.004946</td>\n",
       "      <td>0.004960</td>\n",
       "      <td>0.004974</td>\n",
       "      <td>0.004987</td>\n",
       "      <td>0.005000</td>\n",
       "      <td>0.005013</td>\n",
       "    </tr>\n",
       "    <tr>\n",
       "      <th>-0.99</th>\n",
       "      <td>0.0</td>\n",
       "      <td>0.000006</td>\n",
       "      <td>0.000013</td>\n",
       "      <td>0.000019</td>\n",
       "      <td>0.000026</td>\n",
       "      <td>0.000032</td>\n",
       "      <td>0.000039</td>\n",
       "      <td>0.000046</td>\n",
       "      <td>0.000053</td>\n",
       "      <td>0.000060</td>\n",
       "      <td>...</td>\n",
       "      <td>0.002420</td>\n",
       "      <td>0.002427</td>\n",
       "      <td>0.002435</td>\n",
       "      <td>0.002442</td>\n",
       "      <td>0.002449</td>\n",
       "      <td>0.002455</td>\n",
       "      <td>0.002462</td>\n",
       "      <td>0.002469</td>\n",
       "      <td>0.002475</td>\n",
       "      <td>0.002481</td>\n",
       "    </tr>\n",
       "    <tr>\n",
       "      <th>-1.00</th>\n",
       "      <td>0.0</td>\n",
       "      <td>0.000000</td>\n",
       "      <td>0.000000</td>\n",
       "      <td>0.000000</td>\n",
       "      <td>0.000000</td>\n",
       "      <td>0.000000</td>\n",
       "      <td>0.000000</td>\n",
       "      <td>0.000000</td>\n",
       "      <td>0.000000</td>\n",
       "      <td>0.000000</td>\n",
       "      <td>...</td>\n",
       "      <td>0.000000</td>\n",
       "      <td>0.000000</td>\n",
       "      <td>0.000000</td>\n",
       "      <td>0.000000</td>\n",
       "      <td>0.000000</td>\n",
       "      <td>0.000000</td>\n",
       "      <td>0.000000</td>\n",
       "      <td>0.000000</td>\n",
       "      <td>0.000000</td>\n",
       "      <td>0.000000</td>\n",
       "    </tr>\n",
       "  </tbody>\n",
       "</table>\n",
       "<p>200 rows × 200 columns</p>\n",
       "</div>"
      ],
      "text/plain": [
       "y      -1.00     -0.99     -0.98     -0.97     -0.96     -0.95     -0.94  \\\n",
       "x                                                                          \n",
       " 0.99    0.0  0.002481  0.005013  0.007594  0.010226  0.012908  0.015643   \n",
       " 0.98    0.0  0.002475  0.005000  0.007574  0.010200  0.012876  0.015603   \n",
       " 0.97    0.0  0.002469  0.004987  0.007555  0.010173  0.012842  0.015562   \n",
       " 0.96    0.0  0.002462  0.004974  0.007535  0.010146  0.012808  0.015521   \n",
       " 0.95    0.0  0.002455  0.004960  0.007514  0.010118  0.012773  0.015479   \n",
       "...      ...       ...       ...       ...       ...       ...       ...   \n",
       "-0.96    0.0  0.000026  0.000052  0.000078  0.000105  0.000133  0.000161   \n",
       "-0.97    0.0  0.000019  0.000038  0.000058  0.000078  0.000099  0.000119   \n",
       "-0.98    0.0  0.000013  0.000025  0.000038  0.000052  0.000065  0.000079   \n",
       "-0.99    0.0  0.000006  0.000013  0.000019  0.000026  0.000032  0.000039   \n",
       "-1.00    0.0  0.000000  0.000000  0.000000  0.000000  0.000000  0.000000   \n",
       "\n",
       "y         -0.93     -0.92     -0.91  ...      0.90      0.91      0.92  \\\n",
       "x                                    ...                                 \n",
       " 0.99  0.018429  0.021267  0.024158  ...  0.970410  0.973354  0.976245   \n",
       " 0.98  0.018382  0.021213  0.024097  ...  0.967941  0.970878  0.973762   \n",
       " 0.97  0.018334  0.021158  0.024034  ...  0.965424  0.968353  0.971229   \n",
       " 0.96  0.018285  0.021102  0.023970  ...  0.962857  0.965779  0.968647   \n",
       " 0.95  0.018236  0.021044  0.023905  ...  0.960241  0.963154  0.966015   \n",
       "...         ...       ...       ...  ...       ...       ...       ...   \n",
       "-0.96  0.000189  0.000219  0.000248  ...  0.009973  0.010003  0.010033   \n",
       "-0.97  0.000141  0.000162  0.000184  ...  0.007406  0.007428  0.007450   \n",
       "-0.98  0.000093  0.000107  0.000122  ...  0.004889  0.004903  0.004918   \n",
       "-0.99  0.000046  0.000053  0.000060  ...  0.002420  0.002427  0.002435   \n",
       "-1.00  0.000000  0.000000  0.000000  ...  0.000000  0.000000  0.000000   \n",
       "\n",
       "y          0.93      0.94      0.95      0.96      0.97      0.98      0.99  \n",
       "x                                                                            \n",
       " 0.99  0.979084  0.981870  0.984604  0.987287  0.989919  0.992500  0.995031  \n",
       " 0.98  0.976593  0.979372  0.982099  0.984775  0.987400  0.989975  0.992500  \n",
       " 0.97  0.974053  0.976825  0.979545  0.982214  0.984833  0.987400  0.989919  \n",
       " 0.96  0.971464  0.974228  0.976941  0.979603  0.982214  0.984775  0.987287  \n",
       " 0.95  0.968824  0.971581  0.974286  0.976941  0.979545  0.982099  0.984604  \n",
       "...         ...       ...       ...       ...       ...       ...       ...  \n",
       "-0.96  0.010062  0.010090  0.010118  0.010146  0.010173  0.010200  0.010226  \n",
       "-0.97  0.007472  0.007493  0.007514  0.007535  0.007555  0.007574  0.007594  \n",
       "-0.98  0.004932  0.004946  0.004960  0.004974  0.004987  0.005000  0.005013  \n",
       "-0.99  0.002442  0.002449  0.002455  0.002462  0.002469  0.002475  0.002481  \n",
       "-1.00  0.000000  0.000000  0.000000  0.000000  0.000000  0.000000  0.000000  \n",
       "\n",
       "[200 rows x 200 columns]"
      ]
     },
     "execution_count": 124,
     "metadata": {},
     "output_type": "execute_result"
    }
   ],
   "source": [
    "glue.iloc[::-1]"
   ]
  },
  {
   "cell_type": "code",
   "execution_count": 125,
   "id": "266af45b",
   "metadata": {},
   "outputs": [],
   "source": [
    "xs=np.arange(-a/2,a/2,.01)\n",
    "ys=np.arange(-a/2,a/2,.01)\n",
    "d=[]\n",
    "for x in xs:\n",
    "    for y in ys:\n",
    "        d.append([x,y,1/(4*xi**2)*np.exp((-x**2-y**2)/sigma**2)])\n",
    "\n",
    "f=pd.DataFrame(data =d, columns = ['x','y','z'])"
   ]
  },
  {
   "cell_type": "code",
   "execution_count": 126,
   "id": "7aa26a27",
   "metadata": {},
   "outputs": [
    {
     "data": {
      "text/plain": [
       "<AxesSubplot:xlabel='y', ylabel='x'>"
      ]
     },
     "execution_count": 126,
     "metadata": {},
     "output_type": "execute_result"
    },
    {
     "data": {
      "image/png": "[encoded data removed]",
      "text/plain": [
       "<Figure size 432x288 with 2 Axes>"
      ]
     },
     "metadata": {
      "needs_background": "light"
     },
     "output_type": "display_data"
    }
   ],
   "source": [
    "glue = f.pivot(index=\"x\", columns=\"y\", values=\"z\")\n",
    "sns.heatmap(glue.iloc[::-1],xticklabels=False,yticklabels=False)"
   ]
  },
  {
   "cell_type": "code",
   "execution_count": 32,
   "id": "018c5f74",
   "metadata": {},
   "outputs": [
    {
     "data": {
      "text/plain": [
       "0.6206783056617066"
      ]
     },
     "execution_count": 32,
     "metadata": {},
     "output_type": "execute_result"
    }
   ],
   "source": [
    "u1"
   ]
  },
  {
   "cell_type": "code",
   "execution_count": 79,
   "id": "5a5836e6",
   "metadata": {},
   "outputs": [],
   "source": [
    "u= np.random.uniform(size=(2,100))"
   ]
  },
  {
   "cell_type": "code",
   "execution_count": 80,
   "id": "f5294dce",
   "metadata": {},
   "outputs": [
    {
     "data": {
      "text/plain": [
       "array([[0.74378204, 0.91060258, 0.09045098, 0.26070059, 0.64597749,\n",
       "        0.9702194 , 0.3922568 , 0.15559413, 0.96056855, 0.15794607,\n",
       "        0.8582336 , 0.42790467, 0.94551297, 0.23498688, 0.86174055,\n",
       "        0.62742365, 0.23357567, 0.92810835, 0.05003204, 0.017962  ,\n",
       "        0.0251644 , 0.40057713, 0.94136979, 0.29409208, 0.36458731,\n",
       "        0.64567992, 0.03579314, 0.16542405, 0.44172459, 0.64454745,\n",
       "        0.79442768, 0.25360662, 0.98150457, 0.15696409, 0.98172432,\n",
       "        0.75219838, 0.22518408, 0.8282964 , 0.64255705, 0.65503782,\n",
       "        0.75350794, 0.00539943, 0.06810691, 0.11627027, 0.38619913,\n",
       "        0.417868  , 0.69554698, 0.7317389 , 0.11122948, 0.05214979,\n",
       "        0.0688803 , 0.10409162, 0.51277225, 0.17783848, 0.78786883,\n",
       "        0.15135412, 0.49612857, 0.677249  , 0.97966768, 0.13619344,\n",
       "        0.47749235, 0.58166766, 0.64862066, 0.5911907 , 0.42603886,\n",
       "        0.80988427, 0.87372493, 0.39097542, 0.58008038, 0.42265544,\n",
       "        0.31313337, 0.37337965, 0.75140398, 0.2177462 , 0.22209238,\n",
       "        0.40847074, 0.47999313, 0.08924258, 0.38347761, 0.32668787,\n",
       "        0.52285879, 0.93160995, 0.94725365, 0.47695638, 0.55971881,\n",
       "        0.39162402, 0.49031489, 0.4204813 , 0.10445609, 0.25517643,\n",
       "        0.86206378, 0.50623438, 0.95617193, 0.98815864, 0.04274638,\n",
       "        0.9048366 , 0.62539422, 0.27457441, 0.97865802, 0.3491639 ],\n",
       "       [0.45159634, 0.38170676, 0.80117263, 0.44969004, 0.18629656,\n",
       "        0.9183723 , 0.63608171, 0.54419329, 0.97580532, 0.00543505,\n",
       "        0.74429761, 0.67727873, 0.94714004, 0.20113757, 0.22462498,\n",
       "        0.23104356, 0.89048059, 0.50647591, 0.56495801, 0.68140912,\n",
       "        0.46162656, 0.80684034, 0.73621064, 0.34865754, 0.38832016,\n",
       "        0.99704989, 0.90994077, 0.80169499, 0.9971423 , 0.44639037,\n",
       "        0.28442692, 0.08112029, 0.78927081, 0.32994673, 0.54075801,\n",
       "        0.04786183, 0.94255363, 0.74536915, 0.45108373, 0.61597077,\n",
       "        0.08028134, 0.57703739, 0.61454293, 0.14587554, 0.9621499 ,\n",
       "        0.74386992, 0.01510606, 0.72178266, 0.31294174, 0.58148694,\n",
       "        0.13122076, 0.99423538, 0.25880122, 0.44531717, 0.0575978 ,\n",
       "        0.43519639, 0.65449984, 0.84438734, 0.7230197 , 0.93749971,\n",
       "        0.56008013, 0.61756983, 0.54958891, 0.75829512, 0.11456247,\n",
       "        0.3946368 , 0.93380414, 0.66772856, 0.57003401, 0.22342479,\n",
       "        0.15798952, 0.35393225, 0.3744767 , 0.06886295, 0.30544494,\n",
       "        0.41146579, 0.3325926 , 0.81564689, 0.21690778, 0.63155382,\n",
       "        0.55209381, 0.8831012 , 0.00436721, 0.52192339, 0.15974944,\n",
       "        0.99087691, 0.13059928, 0.26667014, 0.55375626, 0.64017645,\n",
       "        0.72620963, 0.39637876, 0.40235035, 0.00916132, 0.77275697,\n",
       "        0.94510216, 0.87348239, 0.59521398, 0.70375622, 0.06740824]])"
      ]
     },
     "execution_count": 80,
     "metadata": {},
     "output_type": "execute_result"
    }
   ],
   "source": [
    "u"
   ]
  },
  {
   "cell_type": "code",
   "execution_count": 150,
   "id": "a2d07aba",
   "metadata": {},
   "outputs": [
    {
     "data": {
      "text/plain": [
       "0.8014343052391922"
      ]
     },
     "execution_count": 150,
     "metadata": {},
     "output_type": "execute_result"
    }
   ],
   "source": [
    "xi"
   ]
  },
  {
   "cell_type": "code",
   "execution_count": 151,
   "id": "d5728f43",
   "metadata": {},
   "outputs": [
    {
     "data": {
      "text/plain": [
       "0.5"
      ]
     },
     "execution_count": 151,
     "metadata": {},
     "output_type": "execute_result"
    }
   ],
   "source": [
    "sf.erf(sf.erfinv(.5))"
   ]
  },
  {
   "cell_type": "code",
   "execution_count": null,
   "id": "1cdc9659",
   "metadata": {},
   "outputs": [],
   "source": []
  }
 ],
 "metadata": {
  "kernelspec": {
   "display_name": "Python 3 (ipykernel)",
   "language": "python",
   "name": "python3"
  },
  "language_info": {
   "codemirror_mode": {
    "name": "ipython",
    "version": 3
   },
   "file_extension": ".py",
   "mimetype": "text/x-python",
   "name": "python",
   "nbconvert_exporter": "python",
   "pygments_lexer": "ipython3",
   "version": "3.9.17"
  }
 },
 "nbformat": 4,
 "nbformat_minor": 5
}
