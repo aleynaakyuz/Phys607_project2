{
 "cells": [
  {
   "cell_type": "markdown",
   "id": "ed6be621",
   "metadata": {},
   "source": [
    "# Power Spectral Density Randomizer\n",
    "\n",
    "Below code will be used to randomize light color asuming it is being produced by a light bulb with a temperature rating T (K). To do this, I will radomize the frequencies by choosing a random frequency with uniform probabilty and then a random value of spectral radiance with uniform probability. If the random value of spectral radiance is less than the value of Planck's law calculated with the random frequency I will store the random frequency, otherwise I will repeat the random sampling. I will do this until I have N frequencies.\n",
    "\n",
    "Planck's Law\n",
    "$B(\\nu,T) = \\frac{2h\\nu^3}{c^2}\\frac{1}{e^{\\frac{h\\nu}{k_BT}}-1}$\n",
    "\n",
    "Aside: This is Planck's law in 3D, I think that will be correct for our idea, but I have not completely thought it through"
   ]
  },
  {
   "cell_type": "code",
   "execution_count": 62,
   "id": "68e8907e",
   "metadata": {},
   "outputs": [],
   "source": [
    "import numpy as np\n",
    "import seaborn as sns\n",
    "from matplotlib import pyplot as plt\n",
    "from tqdm.auto import tqdm"
   ]
  },
  {
   "cell_type": "code",
   "execution_count": 63,
   "id": "16e51de0",
   "metadata": {},
   "outputs": [],
   "source": [
    "T=5800 #Temperature in Kelvin (5800 is approximately the BB-temp of sun)\n",
    "N=1000000 #number of samples we want\n",
    "f=[] #list of frequencies, to be filled\n",
    "c= 3*10**8 #constant speed of light in m/s\n",
    "h = 6.6261*10**(-34) #Planck's constant in J/s\n",
    "kB = 1.381*10**(-23) #Boltzmann constant in 1/K\n",
    "wF = 3.157*kB*T/h #This is Wien's frequency, using Wien's law, calculate the peak frequency, use this to get the domain of interest"
   ]
  },
  {
   "cell_type": "code",
   "execution_count": 64,
   "id": "53114fde",
   "metadata": {},
   "outputs": [],
   "source": [
    "def p_law(f):\n",
    "    return (2*h*f**3/(c**2))*(1/(np.exp(h*f/(kB*T))-1))"
   ]
  },
  {
   "cell_type": "code",
   "execution_count": 65,
   "id": "8fb4d64f",
   "metadata": {},
   "outputs": [
    {
     "data": {
      "application/vnd.jupyter.widget-view+json": {
       "model_id": "0809e56b23ec4329a4376d71ec38cdaf",
       "version_major": 2,
       "version_minor": 0
      },
      "text/plain": [
       "  0%|          | 0/1000001 [00:00<?, ?it/s]"
      ]
     },
     "metadata": {},
     "output_type": "display_data"
    }
   ],
   "source": [
    "def generator():\n",
    "    i=0\n",
    "    while i<=N:\n",
    "        nu = np.random.uniform(low = .001*wF, high = 5*wF)\n",
    "        B = np.random.uniform(high = 1.05*p_law(wF))\n",
    "        if B<p_law(nu):\n",
    "            f.append(nu)\n",
    "            i+=1\n",
    "            yield\n",
    "\n",
    "        else:\n",
    "            pass\n",
    "    \n",
    "        \n",
    "for _ in tqdm(generator(), total = N+1): pass"
   ]
  },
  {
   "cell_type": "code",
   "execution_count": 66,
   "id": "463fec53",
   "metadata": {},
   "outputs": [
    {
     "data": {
      "text/plain": [
       "<AxesSubplot:ylabel='Count'>"
      ]
     },
     "execution_count": 66,
     "metadata": {},
     "output_type": "execute_result"
    },
    {
     "data": {
      "image/png": "[encoded data removed]",
      "text/plain": [
       "<Figure size 432x288 with 1 Axes>"
      ]
     },
     "metadata": {
      "needs_background": "light"
     },
     "output_type": "display_data"
    }
   ],
   "source": [
    "sns.histplot(f)"
   ]
  },
  {
   "cell_type": "markdown",
   "id": "1a47537d",
   "metadata": {},
   "source": [
    "# Coupling Effiency\n",
    "In the code below, we will choses a random angle between 0 and 90 degrees. This angle will represent the polarization of a photon. This will be chosen from a uniform distribution as we want to describe light being generated from a lightbulb."
   ]
  },
  {
   "cell_type": "code",
   "execution_count": 69,
   "id": "e6231f9a",
   "metadata": {},
   "outputs": [],
   "source": [
    "theta = np.random.uniform(high = np.pi/2)"
   ]
  },
  {
   "cell_type": "code",
   "execution_count": 72,
   "id": "d9c37b60",
   "metadata": {},
   "outputs": [],
   "source": [
    "epc=1/2*(np.cos(theta)-np.sin(theta))"
   ]
  },
  {
   "cell_type": "markdown",
   "id": "772ab22a",
   "metadata": {},
   "source": [
    "# Radiation Direction\n",
    "In the code below, we want to describe the the direction -- which we will do using a polar and azimuthal angle -- "
   ]
  },
  {
   "cell_type": "code",
   "execution_count": 93,
   "id": "865b110f",
   "metadata": {},
   "outputs": [],
   "source": [
    "phi = np.random.uniform(high = 2*np.pi)\n",
    "psi = np.random.uniform(high = np.pi)\n",
    "A=1e-12\n",
    "d=1\n",
    "ang = np.sqrt(A)/(2*d) "
   ]
  },
  {
   "cell_type": "code",
   "execution_count": 94,
   "id": "85471af0",
   "metadata": {},
   "outputs": [],
   "source": [
    "detect = np.pi/2-ang<psi<np.pi/2+ang and -ang< phi < ang"
   ]
  },
  {
   "cell_type": "code",
   "execution_count": 95,
   "id": "6be3c2b4",
   "metadata": {},
   "outputs": [
    {
     "data": {
      "text/plain": [
       "False"
      ]
     },
     "execution_count": 95,
     "metadata": {},
     "output_type": "execute_result"
    }
   ],
   "source": [
    "detect"
   ]
  },
  {
   "cell_type": "code",
   "execution_count": null,
   "id": "6f543bb8",
   "metadata": {},
   "outputs": [],
   "source": []
  }
 ],
 "metadata": {
  "kernelspec": {
   "display_name": "Python 3 (ipykernel)",
   "language": "python",
   "name": "python3"
  },
  "language_info": {
   "codemirror_mode": {
    "name": "ipython",
    "version": 3
   },
   "file_extension": ".py",
   "mimetype": "text/x-python",
   "name": "python",
   "nbconvert_exporter": "python",
   "pygments_lexer": "ipython3",
   "version": "3.9.17"
  }
 },
 "nbformat": 4,
 "nbformat_minor": 5
}
