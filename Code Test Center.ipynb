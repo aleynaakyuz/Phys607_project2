{
 "cells": [
  {
   "cell_type": "markdown",
   "id": "2aaec5c6",
   "metadata": {},
   "source": [
    "# Power Spectral Density Randomizer\n",
    "\n",
    "Below code will be used to randomize light color asuming it is being produced by a light bulb with a temperature rating T (K). To do this, I will radomize the frequencies by choosing a random frequency with uniform probabilty and then a random value of spectral radiance with uniform probability. If the random value of spectral radiance is less than the value of Planck's law calculated with the random frequency I will store the random frequency, otherwise I will repeat the random sampling. I will do this until I have N frequencies.\n",
    "\n",
    "Planck's Law\n",
    "$B(\\nu,T) = \\frac{2h\\nu^3}{c^2}\\frac{1}{e^{\\frac{h\\nu}{k_BT}}-1}$\n",
    "\n",
    "Aside: This is Planck's law in 3D, I think that will be correct for our idea, but I have not completely thought it through"
   ]
  },
  {
   "cell_type": "code",
   "execution_count": 27,
   "id": "e358a583",
   "metadata": {},
   "outputs": [],
   "source": [
    "import numpy as np\n",
    "import seaborn as sns\n",
    "from matplotlib import pyplot as plt\n",
    "from tqdm.auto import tqdm"
   ]
  },
  {
   "cell_type": "code",
   "execution_count": 42,
   "id": "62add071",
   "metadata": {},
   "outputs": [],
   "source": [
    "T=5800 #Temperature in Kelvin (5800 is approximately the BB-temp of sun)\n",
    "N=1000000 #number of samples we want\n",
    "f=[] #list of frequencies, to be filled\n",
    "c= 3*10**8 #constant speed of light in m/s\n",
    "h = 6.6261*10**(-34) #Planck's constant in J/s\n",
    "kB = 1.381*10**(-23) #Boltzmann constant in 1/K\n",
    "wF = c*T/(2898*10**(-6)) #This is Wien's frequency, using Wien's law, calculate the peak frequency, use this to get the domain of interest"
   ]
  },
  {
   "cell_type": "code",
   "execution_count": 43,
   "id": "6887bab8",
   "metadata": {},
   "outputs": [],
   "source": [
    "def p_law(f):\n",
    "    return (2*h*f**3/(c**2))*(1/(np.exp(h*f/(kB*T))-1))"
   ]
  },
  {
   "cell_type": "code",
   "execution_count": 47,
   "id": "9c83caff",
   "metadata": {},
   "outputs": [
    {
     "data": {
      "application/vnd.jupyter.widget-view+json": {
       "model_id": "f1ce37dd1a93411181c242c9c0dcb41a",
       "version_major": 2,
       "version_minor": 0
      },
      "text/plain": [
       "  0%|          | 0/1000001 [00:00<?, ?it/s]"
      ]
     },
     "metadata": {},
     "output_type": "display_data"
    }
   ],
   "source": [
    "def generator():\n",
    "    i=0\n",
    "    while i<=N:\n",
    "        nu = np.random.uniform(low = .001*wF, high = 2*wF)\n",
    "        B = np.random.uniform(high = 3*p_law(wF))\n",
    "        if B<p_law(nu):\n",
    "            f.append(nu)\n",
    "            i+=1\n",
    "            yield\n",
    "\n",
    "        else:\n",
    "            pass\n",
    "    \n",
    "        \n",
    "for _ in tqdm(generator(), total = N+1): pass"
   ]
  },
  {
   "cell_type": "code",
   "execution_count": 48,
   "id": "ae6a20f6",
   "metadata": {},
   "outputs": [
    {
     "data": {
      "text/plain": [
       "<AxesSubplot:ylabel='Count'>"
      ]
     },
     "execution_count": 48,
     "metadata": {},
     "output_type": "execute_result"
    },
    {
     "data": {
      "image/png": "[encoded data removed]",
      "text/plain": [
       "<Figure size 432x288 with 1 Axes>"
      ]
     },
     "metadata": {
      "needs_background": "light"
     },
     "output_type": "display_data"
    }
   ],
   "source": [
    "sns.histplot(f)"
   ]
  },
  {
   "cell_type": "code",
   "execution_count": null,
   "id": "99d02399",
   "metadata": {},
   "outputs": [],
   "source": []
  }
 ],
 "metadata": {
  "kernelspec": {
   "display_name": "Python 3 (ipykernel)",
   "language": "python",
   "name": "python3"
  },
  "language_info": {
   "codemirror_mode": {
    "name": "ipython",
    "version": 3
   },
   "file_extension": ".py",
   "mimetype": "text/x-python",
   "name": "python",
   "nbconvert_exporter": "python",
   "pygments_lexer": "ipython3",
   "version": "3.9.17"
  }
 },
 "nbformat": 4,
 "nbformat_minor": 5
}
